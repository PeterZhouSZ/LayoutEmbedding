{
 "cells": [
  {
   "cell_type": "code",
   "execution_count": null,
   "metadata": {},
   "outputs": [],
   "source": [
    "%matplotlib inline\n",
    "import matplotlib.pyplot as plt\n",
    "from matplotlib.ticker import PercentFormatter\n",
    "import numpy as np\n",
    "import pandas as pd\n",
    "import rwthcolors\n",
    "import eurographics_style\n",
    "import glob"
   ]
  },
  {
   "cell_type": "code",
   "execution_count": null,
   "metadata": {},
   "outputs": [],
   "source": [
    "output_dir = '/local/born/layout-embedding-output'\n",
    "sphere_stress_test_output_dir = output_dir + '/sphere_stress_test'\n",
    "sphere_stress_test_stats_path = sphere_stress_test_output_dir + '/stats.csv'\n",
    "fns = [\n",
    "    sphere_stress_test_stats_path,\n",
    "]\n",
    "\n",
    "run_data = pd.concat([pd.read_csv(fn, index_col=['seed', 'algorithm']) for fn in fns])\n",
    "run_data"
   ]
  },
  {
   "cell_type": "code",
   "execution_count": null,
   "metadata": {},
   "outputs": [],
   "source": [
    "score_data = run_data.unstack(1)['score']\n",
    "\n",
    "cases = [\n",
    "    {\n",
    "        'algo': 'greedy',\n",
    "        'label': 'Greedy',\n",
    "        'color': 'rwth:red',\n",
    "    },\n",
    "    {\n",
    "        'algo': 'greedy_brute_force',\n",
    "        'label': 'Greedy (Brute Force)',\n",
    "        'color': 'rwth:orange',\n",
    "    },\n",
    "    {\n",
    "        'algo': 'bnb',\n",
    "        'label': 'Branch-and-Bound',\n",
    "        'color': 'rwth:blue',\n",
    "    },\n",
    "]\n",
    "\n",
    "plt.figure()\n",
    "plt.title('Score')\n",
    "plt.xlabel('score')\n",
    "plt.gca().yaxis.set_major_formatter(PercentFormatter(1))\n",
    "plt.ylim(0, 1)\n",
    "for case in cases:\n",
    "    algo = case['algo']\n",
    "    ascending_score = np.sort(score_data[algo].dropna())\n",
    "    percentiles = np.linspace(0, 1, len(ascending_score))\n",
    "    plt.plot(ascending_score, percentiles, label=case['label'], c=case['color'])\n",
    "plt.legend()"
   ]
  },
  {
   "cell_type": "code",
   "execution_count": null,
   "metadata": {},
   "outputs": [],
   "source": [
    "cases = [\n",
    "    {\n",
    "        'algo': 'greedy',\n",
    "        'label': 'Greedy',\n",
    "        'color': 'rwth:red',\n",
    "    },\n",
    "    {\n",
    "        'algo': 'greedy_brute_force',\n",
    "        'label': 'Greedy (Brute Force)',\n",
    "        'color': 'rwth:orange',\n",
    "    },\n",
    "    {\n",
    "        'algo': 'bnb',\n",
    "        'label': 'Branch-and-Bound',\n",
    "        'color': 'rwth:blue',\n",
    "    },\n",
    "]\n",
    "\n",
    "for case in cases:\n",
    "    algo = case['algo']\n",
    "    runtime_series = run_data.unstack(1)['runtime'][algo].dropna()\n",
    "    ascending_runtime = np.sort(runtime_series)\n",
    "    percentiles = np.linspace(0, 1, len(ascending_runtime))\n",
    "\n",
    "    plt.figure()\n",
    "    plt.title(case['label'])\n",
    "    plt.xlabel('runtime (s)')\n",
    "    plt.gca().yaxis.set_major_formatter(PercentFormatter(1))\n",
    "    plt.ylim(0, 1)\n",
    "    #if algo == 'bnb':\n",
    "    #    plt.axvline(1800, c='lightgray', linestyle='--', zorder=-1)\n",
    "    plt.plot(ascending_runtime, percentiles, c=case['color'])\n",
    "    \n",
    "    print('avg {}: {:.4} s'.format(algo, runtime_series.mean()))"
   ]
  }
 ],
 "metadata": {
  "kernelspec": {
   "display_name": "Python 3",
   "language": "python",
   "name": "python3"
  },
  "language_info": {
   "codemirror_mode": {
    "name": "ipython",
    "version": 3
   },
   "file_extension": ".py",
   "mimetype": "text/x-python",
   "name": "python",
   "nbconvert_exporter": "python",
   "pygments_lexer": "ipython3",
   "version": "3.7.3"
  }
 },
 "nbformat": 4,
 "nbformat_minor": 2
}
