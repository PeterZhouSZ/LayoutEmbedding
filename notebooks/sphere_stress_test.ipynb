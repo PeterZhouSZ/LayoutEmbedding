{
 "cells": [
  {
   "cell_type": "code",
   "execution_count": null,
   "metadata": {},
   "outputs": [],
   "source": [
    "%matplotlib inline\n",
    "import matplotlib.pyplot as plt\n",
    "from matplotlib.ticker import PercentFormatter\n",
    "import numpy as np\n",
    "import pandas as pd\n",
    "import rwthcolors"
   ]
  },
  {
   "cell_type": "code",
   "execution_count": null,
   "metadata": {},
   "outputs": [],
   "source": [
    "# Hotfix to select Times New Roman Regular instead of Bold:\n",
    "# https://stackoverflow.com/a/44386835/3077540\n",
    "import matplotlib\n",
    "if 'roman' in matplotlib.font_manager.weight_dict:\n",
    "    del matplotlib.font_manager.weight_dict['roman']\n",
    "    matplotlib.font_manager._rebuild()\n",
    "\n",
    "plt.rcParams['font.family'] = 'serif'\n",
    "plt.rcParams['font.serif'] = 'Times New Roman'\n",
    "plt.rcParams['font.size'] = 12"
   ]
  },
  {
   "cell_type": "code",
   "execution_count": null,
   "metadata": {},
   "outputs": [],
   "source": [
    "output_dir = '/local/born/layout-embedding-output'\n",
    "sphere_stress_test_output_dir = output_dir + '/sphere_stress_test'\n",
    "sphere_stress_test_stats_path = sphere_stress_test_output_dir + '/stats.csv'\n",
    "\n",
    "fns = [\n",
    "    sphere_stress_test_stats_path,\n",
    "]\n",
    "run_data = pd.concat([pd.read_csv(fn, index_col=['seed', 'algorithm']) for fn in fns])\n",
    "run_data"
   ]
  },
  {
   "cell_type": "code",
   "execution_count": null,
   "metadata": {},
   "outputs": [],
   "source": [
    "score_data = run_data.unstack(1)['score']\n",
    "relative_score = score_data['bnb'] / score_data['greedy_with_swirl_detection']\n",
    "\n",
    "ascending_score = np.sort(relative_score)\n",
    "percentiles = np.linspace(0, 1, len(ascending_score))\n",
    "\n",
    "plt.figure()\n",
    "plt.title('relative score')\n",
    "plt.xlabel('bnb score / greedy score')\n",
    "plt.gca().yaxis.set_major_formatter(PercentFormatter(1))\n",
    "plt.ylim(0, 1)\n",
    "plt.axvline(1, c='lightgray', linestyle='--', zorder=-1)\n",
    "plt.plot(ascending_score, percentiles, c='rwth:blue')"
   ]
  },
  {
   "cell_type": "code",
   "execution_count": null,
   "metadata": {},
   "outputs": [],
   "source": [
    "for algo in ['bnb', 'greedy_with_swirl_detection']:\n",
    "    runtime_series = run_data.unstack(1)['runtime'][algo].dropna()\n",
    "    ascending_runtime = np.sort(runtime_series)\n",
    "    percentiles = np.linspace(0, 1, len(ascending_runtime))\n",
    "\n",
    "    plt.figure()\n",
    "    plt.title(algo)\n",
    "    plt.xlabel('runtime (s)')\n",
    "    plt.gca().yaxis.set_major_formatter(PercentFormatter(1))\n",
    "    plt.ylim(0, 1)\n",
    "    if algo == 'bnb':\n",
    "        plt.axvline(1800, c='lightgray', linestyle='--', zorder=-1)\n",
    "    plt.plot(ascending_runtime, percentiles, c='rwth:blue')\n",
    "    \n",
    "    print('avg {}: {} s'.format(algo, runtime_series.mean()))"
   ]
  },
  {
   "cell_type": "code",
   "execution_count": null,
   "metadata": {},
   "outputs": [],
   "source": []
  }
 ],
 "metadata": {
  "kernelspec": {
   "display_name": "Python 3",
   "language": "python",
   "name": "python3"
  },
  "language_info": {
   "codemirror_mode": {
    "name": "ipython",
    "version": 3
   },
   "file_extension": ".py",
   "mimetype": "text/x-python",
   "name": "python",
   "nbconvert_exporter": "python",
   "pygments_lexer": "ipython3",
   "version": "3.7.3"
  }
 },
 "nbformat": 4,
 "nbformat_minor": 2
}
