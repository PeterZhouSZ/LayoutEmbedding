{
 "cells": [
  {
   "cell_type": "code",
   "execution_count": null,
   "metadata": {},
   "outputs": [],
   "source": [
    "%matplotlib inline\n",
    "import matplotlib.pyplot as plt\n",
    "from matplotlib.ticker import PercentFormatter\n",
    "import numpy as np\n",
    "import scipy as sp\n",
    "import scipy.interpolate\n",
    "import pandas as pd\n",
    "import rwthcolors\n",
    "import eurographics_style\n",
    "import glob\n",
    "import re"
   ]
  },
  {
   "cell_type": "code",
   "execution_count": null,
   "metadata": {},
   "outputs": [],
   "source": [
    "output_dir = '/local/born/layout-embedding-output'\n",
    "optimization_pipeline_output_dir = output_dir + '/optimization_timeline'"
   ]
  },
  {
   "cell_type": "code",
   "execution_count": null,
   "metadata": {},
   "outputs": [],
   "source": [
    "ub_fns = glob.glob(optimization_pipeline_output_dir + '/*_upper_bound.csv')\n",
    "\n",
    "runs = []\n",
    "\n",
    "for fn in ub_fns:\n",
    "    m = re.search('(\\d+)_upper_bound\\.csv', fn)\n",
    "    seed = int(m.group(1))\n",
    "    data = pd.read_csv(fn)\n",
    "    num_events = len(data)\n",
    "    run = {'seed': seed, 'num_events': num_events}\n",
    "    runs.append(run)\n",
    "\n",
    "runs = sorted(runs, key=lambda r: r['num_events'], reverse=True)\n",
    "for run in runs:\n",
    "    seed = run['seed']\n",
    "    num_events = run['num_events']\n",
    "    print(f'Seed {seed}: {num_events} upper bound events')"
   ]
  },
  {
   "cell_type": "code",
   "execution_count": null,
   "metadata": {},
   "outputs": [],
   "source": [
    "best_seed = runs[0]['seed']\n",
    "\n",
    "lb_fn = optimization_pipeline_output_dir + f'/{best_seed}_lower_bound.csv'\n",
    "ub_fn = optimization_pipeline_output_dir + f'/{best_seed}_upper_bound.csv'\n",
    "\n",
    "lb_data = pd.read_csv(lb_fn)\n",
    "ub_data = pd.read_csv(ub_fn)"
   ]
  },
  {
   "cell_type": "code",
   "execution_count": null,
   "metadata": {},
   "outputs": [],
   "source": [
    "def plot_run(lb_data, ub_data):\n",
    "    min_t = min(lb_data['t'].min(), ub_data['t'].min())\n",
    "    max_t = max(lb_data['t'].max(), ub_data['t'].max())\n",
    "\n",
    "    t_resampled = np.sort(np.concatenate((lb_data['t'], ub_data['t'])))\n",
    "\n",
    "    lb_interp = sp.interpolate.interp1d(lb_data['t'], lb_data['lower_bound'], kind='previous', fill_value='extrapolate')\n",
    "    lb_resampled = lb_interp(t_resampled)\n",
    "\n",
    "    ub_interp = sp.interpolate.interp1d(ub_data['t'], ub_data['upper_bound'], kind='previous', fill_value='extrapolate')\n",
    "    ub_resampled = ub_interp(t_resampled)\n",
    "    \n",
    "    plt.figure()\n",
    "    plt.xlabel('Time')\n",
    "\n",
    "    plt.fill_between(t_resampled, lb_resampled, ub_resampled, color='rwth:blue10', step='post')\n",
    "\n",
    "    plt.step(t_resampled, ub_resampled, label='Upper Bound', c='rwth:blue', where='post')\n",
    "    plt.step(t_resampled, lb_resampled, label='Lower Bound', c='rwth:blue50', where='post')\n",
    "\n",
    "    point_size = 10.0\n",
    "    plt.scatter(lb_data['t'], lb_data['lower_bound'], c='rwth:blue50', s=point_size)\n",
    "    plt.scatter(ub_data['t'], ub_data['upper_bound'], c='rwth:blue', s=point_size)\n",
    "\n",
    "    plt.legend()"
   ]
  },
  {
   "cell_type": "code",
   "execution_count": null,
   "metadata": {},
   "outputs": [],
   "source": [
    "plot_run(lb_data, ub_data)"
   ]
  },
  {
   "cell_type": "code",
   "execution_count": null,
   "metadata": {},
   "outputs": [],
   "source": [
    "seed = 0\n",
    "lb_fn = optimization_pipeline_output_dir + f'/{seed}_lower_bound.csv'\n",
    "ub_fn = optimization_pipeline_output_dir + f'/{seed}_upper_bound.csv'\n",
    "lb_data = pd.read_csv(lb_fn)\n",
    "ub_data = pd.read_csv(ub_fn)\n",
    "plot_run(lb_data, ub_data)"
   ]
  }
 ],
 "metadata": {
  "kernelspec": {
   "display_name": "Python 3",
   "language": "python",
   "name": "python3"
  },
  "language_info": {
   "codemirror_mode": {
    "name": "ipython",
    "version": 3
   },
   "file_extension": ".py",
   "mimetype": "text/x-python",
   "name": "python",
   "nbconvert_exporter": "python",
   "pygments_lexer": "ipython3",
   "version": "3.7.3"
  }
 },
 "nbformat": 4,
 "nbformat_minor": 2
}
