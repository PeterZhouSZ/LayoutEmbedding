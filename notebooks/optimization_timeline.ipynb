{
 "cells": [
  {
   "cell_type": "code",
   "execution_count": 1,
   "metadata": {},
   "outputs": [],
   "source": [
    "%matplotlib inline\n",
    "import matplotlib.pyplot as plt\n",
    "from matplotlib.ticker import PercentFormatter\n",
    "import numpy as np\n",
    "import scipy as sp\n",
    "import scipy.interpolate\n",
    "import pandas as pd\n",
    "import rwthcolors\n",
    "import eurographics_style\n",
    "import glob\n",
    "import re"
   ]
  },
  {
   "cell_type": "code",
   "execution_count": 2,
   "metadata": {},
   "outputs": [],
   "source": [
    "output_dir = '/local/born/layout-embedding-output'\n",
    "optimization_pipeline_output_dir = output_dir + '/optimization_timeline'"
   ]
  },
  {
   "cell_type": "code",
   "execution_count": 3,
   "metadata": {},
   "outputs": [
    {
     "name": "stdout",
     "output_type": "stream",
     "text": [
      "Seed 869: 7 upper bound events\n",
      "Seed 867: 6 upper bound events\n",
      "Seed 740: 6 upper bound events\n",
      "Seed 721: 6 upper bound events\n",
      "Seed 594: 5 upper bound events\n",
      "Seed 2: 5 upper bound events\n",
      "Seed 850: 5 upper bound events\n",
      "Seed 436: 5 upper bound events\n",
      "Seed 461: 5 upper bound events\n",
      "Seed 747: 5 upper bound events\n",
      "Seed 601: 5 upper bound events\n",
      "Seed 681: 5 upper bound events\n",
      "Seed 463: 5 upper bound events\n",
      "Seed 660: 5 upper bound events\n",
      "Seed 595: 5 upper bound events\n",
      "Seed 433: 5 upper bound events\n",
      "Seed 795: 5 upper bound events\n",
      "Seed 407: 5 upper bound events\n",
      "Seed 203: 5 upper bound events\n",
      "Seed 912: 5 upper bound events\n"
     ]
    }
   ],
   "source": [
    "ub_fns = glob.glob(optimization_pipeline_output_dir + '/*_upper_bound.csv')\n",
    "\n",
    "runs = []\n",
    "\n",
    "for fn in ub_fns:\n",
    "    m = re.search('(\\d+)_upper_bound\\.csv', fn)\n",
    "    seed = int(m.group(1))\n",
    "    data = pd.read_csv(fn)\n",
    "    num_events = len(data)\n",
    "    run = {'seed': seed, 'num_events': num_events}\n",
    "    runs.append(run)\n",
    "\n",
    "runs = sorted(runs, key=lambda r: r['num_events'], reverse=True)\n",
    "for run in runs[0:20]:\n",
    "    seed = run['seed']\n",
    "    num_events = run['num_events']\n",
    "    print(f'Seed {seed}: {num_events} upper bound events')"
   ]
  },
  {
   "cell_type": "code",
   "execution_count": 20,
   "metadata": {},
   "outputs": [
    {
     "name": "stdout",
     "output_type": "stream",
     "text": [
      "Best Seed: 869\n"
     ]
    }
   ],
   "source": [
    "best_seed = runs[0]['seed']\n",
    "print(f'Best Seed: {best_seed}')\n",
    "\n",
    "lb_fn = optimization_pipeline_output_dir + f'/{best_seed}_lower_bound.csv'\n",
    "ub_fn = optimization_pipeline_output_dir + f'/{best_seed}_upper_bound.csv'\n",
    "\n",
    "lb_data = pd.read_csv(lb_fn)\n",
    "ub_data = pd.read_csv(ub_fn)"
   ]
  },
  {
   "cell_type": "code",
   "execution_count": 29,
   "metadata": {},
   "outputs": [],
   "source": [
    "def plot_run(lb_data, ub_data):\n",
    "    min_t = min(lb_data['t'].min(), ub_data['t'].min())\n",
    "    max_t = max(lb_data['t'].max(), ub_data['t'].max())\n",
    "    \n",
    "    lb_data = lb_data[lb_data['lower_bound'] > 0.0].copy()\n",
    "    lb_data.iloc[-1, lb_data.columns.get_loc('lower_bound')] = ub_data.iloc[-1, ub_data.columns.get_loc('upper_bound')]\n",
    "    \n",
    "    lb_t = lb_data['t']\n",
    "    ub_t = ub_data['t']\n",
    "    lb = lb_data['lower_bound']\n",
    "    ub = ub_data['upper_bound']\n",
    "    \n",
    "    t_resampled = np.sort(np.concatenate((lb_t, ub_t)))\n",
    "\n",
    "    lb_interp = sp.interpolate.interp1d(lb_t, lb, kind='previous', fill_value='extrapolate')\n",
    "    lb_resampled = lb_interp(t_resampled)\n",
    "\n",
    "    ub_interp = sp.interpolate.interp1d(ub_t, ub, kind='previous', fill_value='extrapolate')\n",
    "    ub_resampled = ub_interp(t_resampled)\n",
    "    \n",
    "    lb_resampled = np.minimum(lb_resampled, ub_resampled)\n",
    "    lb = np.minimum(lb, ub_interp(lb_t))\n",
    "    \n",
    "    plt.figure()\n",
    "    plt.xlabel('Time')\n",
    "\n",
    "    plt.fill_between(t_resampled, lb_resampled, ub_resampled, color='rwth:blue10', step='post')\n",
    "\n",
    "    plt.step(t_resampled, lb_resampled, label='Lower Bound', c='rwth:blue50', where='post')\n",
    "    plt.step(t_resampled, ub_resampled, label='Upper Bound', c='rwth:blue', where='post')\n",
    "\n",
    "    point_size = 10.0\n",
    "    #plt.scatter(lb_t, lb, c='rwth:blue50', s=point_size)\n",
    "    plt.scatter(ub_t, ub, c='rwth:blue', s=point_size)\n",
    "    #plt.ylim((10, 16))\n",
    "\n",
    "    plt.legend()\n",
    "    plt.savefig('/home/born/Downloads/optimization_timeline.pdf')"
   ]
  },
  {
   "cell_type": "code",
   "execution_count": 30,
   "metadata": {},
   "outputs": [
    {
     "data": {
      "image/png": "[encoded data removed]",
      "text/plain": [
       "<Figure size 432x288 with 1 Axes>"
      ]
     },
     "metadata": {
      "needs_background": "light"
     },
     "output_type": "display_data"
    }
   ],
   "source": [
    "plot_run(lb_data, ub_data)"
   ]
  },
  {
   "cell_type": "code",
   "execution_count": 32,
   "metadata": {},
   "outputs": [
    {
     "data": {
      "image/png": "[encoded data removed]",
      "text/plain": [
       "<Figure size 432x288 with 1 Axes>"
      ]
     },
     "metadata": {
      "needs_background": "light"
     },
     "output_type": "display_data"
    }
   ],
   "source": [
    "seed = 2\n",
    "lb_fn = optimization_pipeline_output_dir + f'/{seed}_lower_bound.csv'\n",
    "ub_fn = optimization_pipeline_output_dir + f'/{seed}_upper_bound.csv'\n",
    "lb_data = pd.read_csv(lb_fn)\n",
    "ub_data = pd.read_csv(ub_fn)\n",
    "plot_run(lb_data, ub_data)"
   ]
  },
  {
   "cell_type": "code",
   "execution_count": null,
   "metadata": {},
   "outputs": [],
   "source": []
  }
 ],
 "metadata": {
  "kernelspec": {
   "display_name": "Python 3",
   "language": "python",
   "name": "python3"
  },
  "language_info": {
   "codemirror_mode": {
    "name": "ipython",
    "version": 3
   },
   "file_extension": ".py",
   "mimetype": "text/x-python",
   "name": "python",
   "nbconvert_exporter": "python",
   "pygments_lexer": "ipython3",
   "version": "3.7.3"
  }
 },
 "nbformat": 4,
 "nbformat_minor": 2
}
