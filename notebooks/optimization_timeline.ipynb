{
 "cells": [
  {
   "cell_type": "code",
   "execution_count": null,
   "metadata": {},
   "outputs": [],
   "source": [
    "%matplotlib inline\n",
    "import matplotlib.pyplot as plt\n",
    "from matplotlib.ticker import PercentFormatter\n",
    "import numpy as np\n",
    "import pandas as pd\n",
    "import rwthcolors\n",
    "import eurographics_style\n",
    "import glob\n",
    "import re"
   ]
  },
  {
   "cell_type": "code",
   "execution_count": null,
   "metadata": {},
   "outputs": [],
   "source": [
    "output_dir = '/local/born/layout-embedding-output'\n",
    "optimization_pipeline_output_dir = output_dir + '/optimization_timeline'"
   ]
  },
  {
   "cell_type": "code",
   "execution_count": null,
   "metadata": {},
   "outputs": [],
   "source": [
    "ub_fns = glob.glob(optimization_pipeline_output_dir + '/*_upper_bound.csv')\n",
    "max_num_events = 0\n",
    "best_seed = 0\n",
    "for fn in ub_fns:\n",
    "    m = re.search('(\\d+)_upper_bound\\.csv', fn)\n",
    "    seed = int(m.group(1))\n",
    "    data = pd.read_csv(fn)\n",
    "    num_events = len(data)\n",
    "    print(f'{seed}: {num_events}')\n",
    "    if num_events > max_num_events:\n",
    "        max_num_events = num_events\n",
    "        best_seed = seed\n",
    "best_seed"
   ]
  },
  {
   "cell_type": "code",
   "execution_count": null,
   "metadata": {},
   "outputs": [],
   "source": [
    "ub_fn = optimization_pipeline_output_dir + f'/{best_seed}_upper_bound.csv'\n",
    "lb_fn = optimization_pipeline_output_dir + f'/{best_seed}_lower_bound.csv'\n",
    "\n",
    "ub_data = pd.read_csv(ub_fn)\n",
    "lb_data = pd.read_csv(lb_fn)"
   ]
  },
  {
   "cell_type": "code",
   "execution_count": null,
   "metadata": {},
   "outputs": [],
   "source": [
    "plt.figure()\n",
    "plt.xlabel('Time')\n",
    "#plt.gca().yaxis.set_major_formatter(PercentFormatter(1))\n",
    "#plt.ylim(0, 1)\n",
    "plt.plot(ub_data['t'], ub_data['upper_bound'], label='Upper Bound', c='rwth:blue')\n",
    "plt.plot(lb_data['t'], lb_data['lower_bound'], label='Lower Bound', c='rwth:green')"
   ]
  }
 ],
 "metadata": {
  "kernelspec": {
   "display_name": "Python 3",
   "language": "python",
   "name": "python3"
  },
  "language_info": {
   "codemirror_mode": {
    "name": "ipython",
    "version": 3
   },
   "file_extension": ".py",
   "mimetype": "text/x-python",
   "name": "python",
   "nbconvert_exporter": "python",
   "pygments_lexer": "ipython3",
   "version": "3.7.3"
  }
 },
 "nbformat": 4,
 "nbformat_minor": 2
}
