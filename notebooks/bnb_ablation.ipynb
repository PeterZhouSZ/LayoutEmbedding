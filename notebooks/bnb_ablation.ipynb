{
 "cells": [
  {
   "cell_type": "code",
   "execution_count": 140,
   "metadata": {},
   "outputs": [],
   "source": [
    "%matplotlib inline\n",
    "import matplotlib.pyplot as plt\n",
    "from matplotlib.ticker import PercentFormatter\n",
    "import numpy as np\n",
    "import pandas as pd\n",
    "import rwthcolors\n",
    "import eurographics_style\n",
    "import glob"
   ]
  },
  {
   "cell_type": "code",
   "execution_count": 221,
   "metadata": {},
   "outputs": [
    {
     "name": "stdout",
     "output_type": "stream",
     "text": [
      "1\n",
      "0\n",
      "0\n",
      "0\n",
      "1\n",
      "no_state_hashing: 5.83004 s\n",
      "no_proactive_pruning: nan s\n",
      "no_balanced_priority: nan s\n",
      "no_advanced_lower_bounds: nan s\n",
      "bnb: 6.34693 s\n"
     ]
    },
    {
     "data": {
      "text/plain": [
       "<matplotlib.legend.Legend at 0x7f1caa416978>"
      ]
     },
     "execution_count": 221,
     "metadata": {},
     "output_type": "execute_result"
    },
    {
     "data": {
      "image/png": "[encoded data removed]",
      "text/plain": [
       "<Figure size 432x360 with 1 Axes>"
      ]
     },
     "metadata": {
      "needs_background": "light"
     },
     "output_type": "display_data"
    }
   ],
   "source": [
    "output_dir = '/local/born/layout-embedding-output'\n",
    "bnb_ablation_output_dir = output_dir + '/bnb_ablation'\n",
    "bnb_ablation_stats_path = bnb_ablation_output_dir + '/stats_shrec07.csv'\n",
    "\n",
    "df = pd.read_csv(bnb_ablation_stats_path)\n",
    "\n",
    "data_series = [\n",
    "    {\n",
    "        'name': 'no_state_hashing',\n",
    "        'label': 'no_state_hashing',\n",
    "        'color': 'rwth:green',\n",
    "        'filter': {'state_hashing': 0, 'proactive_pruning': 1, 'balanced_priority': 1, 'advanced_lower_bounds': 1},\n",
    "    },\n",
    "    {\n",
    "        'name': 'no_proactive_pruning',\n",
    "        'label': 'no_proactive_pruning',\n",
    "        'color': 'rwth:maygreen',\n",
    "        'filter': {'state_hashing': 1, 'proactive_pruning': 0, 'balanced_priority': 1, 'advanced_lower_bounds': 1},\n",
    "    },\n",
    "    {\n",
    "        'name': 'no_balanced_priority',\n",
    "        'label': 'no_balanced_priority',\n",
    "        'color': 'rwth:yellow',\n",
    "        'filter': {'state_hashing': 1, 'proactive_pruning': 1, 'balanced_priority': 0, 'advanced_lower_bounds': 1},\n",
    "    },\n",
    "    {\n",
    "        'name': 'no_advanced_lower_bounds',\n",
    "        'label': 'no_advanced_lower_bounds',\n",
    "        'color': 'rwth:orange',\n",
    "        'filter': {'state_hashing': 1, 'proactive_pruning': 1, 'balanced_priority': 1, 'advanced_lower_bounds': 0},\n",
    "    },\n",
    "    {\n",
    "        'name': 'bnb',\n",
    "        'label': 'bnb',\n",
    "        'color': 'rwth:blue',\n",
    "        'filter': {'state_hashing': 1, 'proactive_pruning': 1, 'balanced_priority': 1, 'advanced_lower_bounds': 1},\n",
    "    },\n",
    "]\n",
    "\n",
    "for ds in data_series:\n",
    "    filt_keys = list(ds['filter'].keys())\n",
    "    filt_vals = list(ds['filter'].values())\n",
    "    def f(arg):\n",
    "        return (arg[filt_keys] == filt_vals).all()\n",
    "    ds['df'] = df[df.apply(f, axis=1)]\n",
    "    print(len(ds['df']))\n",
    "\n",
    "for ds in data_series:\n",
    "    name = ds['name']\n",
    "    mean = ds['df']['runtime'].mean()\n",
    "    print(f'{name}: {mean} s')\n",
    "    \n",
    "plt.figure(figsize=(6,5))\n",
    "\n",
    "for ds in data_series:\n",
    "    ds_df = ds['df']\n",
    "    name = ds['name']\n",
    "    color = ds['color']\n",
    "    \n",
    "    ascending_runtime = np.sort(ds_df['runtime'].replace(np.inf, 120.0))\n",
    "    percentiles = np.linspace(0, 1, len(ascending_runtime))\n",
    "    plt.plot(ascending_runtime, percentiles, c=color, label=name)\n",
    "    #plt.xlim((0,2))\n",
    "plt.xlabel('Runtime')\n",
    "plt.legend()"
   ]
  }
 ],
 "metadata": {
  "kernelspec": {
   "display_name": "Python 3",
   "language": "python",
   "name": "python3"
  },
  "language_info": {
   "codemirror_mode": {
    "name": "ipython",
    "version": 3
   },
   "file_extension": ".py",
   "mimetype": "text/x-python",
   "name": "python",
   "nbconvert_exporter": "python",
   "pygments_lexer": "ipython3",
   "version": "3.7.3"
  }
 },
 "nbformat": 4,
 "nbformat_minor": 2
}
