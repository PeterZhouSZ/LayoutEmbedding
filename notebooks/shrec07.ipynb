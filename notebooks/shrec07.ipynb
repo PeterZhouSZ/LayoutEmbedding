{
 "cells": [
  {
   "cell_type": "code",
   "execution_count": 50,
   "metadata": {},
   "outputs": [],
   "source": [
    "%matplotlib inline\n",
    "import matplotlib.pyplot as plt\n",
    "from matplotlib.ticker import PercentFormatter\n",
    "import matplotlib.lines as mlines\n",
    "import numpy as np\n",
    "import pandas as pd\n",
    "import rwthcolors\n",
    "import eurographics_style\n",
    "import glob\n",
    "import re\n",
    "import os.path"
   ]
  },
  {
   "cell_type": "code",
   "execution_count": 51,
   "metadata": {},
   "outputs": [],
   "source": [
    "data_series = [\n",
    "    #{\n",
    "    #    'name': 'greedy',\n",
    "    #    'label': 'Greedy',\n",
    "    #    'color': 'rwth:yellow',\n",
    "    #},\n",
    "    {\n",
    "        'name': 'kraevoy',\n",
    "        'label': 'Kraevoy',\n",
    "        'color': 'rwth:yellow',\n",
    "    },\n",
    "    {\n",
    "        'name': 'praun',\n",
    "        'label': 'Praun',\n",
    "        'color': 'rwth:orange',\n",
    "    },\n",
    "    {\n",
    "        'name': 'schreiner',\n",
    "        'label': 'Schreiner',\n",
    "        'color': 'rwth:red',\n",
    "    },\n",
    "    {\n",
    "        'name': 'bnb_lower_bound',\n",
    "        'label': 'B&B (Lower Bound)',\n",
    "        'color': 'rwth:blue50',\n",
    "    },\n",
    "    {\n",
    "        'name': 'bnb',\n",
    "        'label': 'B&B',\n",
    "        'color': 'rwth:blue',\n",
    "    },\n",
    "]\n",
    "\n",
    "shrec_categories = [\n",
    "    { 'id': 10, 'name': 'Hand' },\n",
    "    { 'id': 15, 'name': 'Armadillo' },\n",
    "    { 'id': 16, 'name': 'Bust' },\n",
    "    { 'id':  5, 'name': 'Ant' },\n",
    "    { 'id': 20, 'name': 'Fourleg' },\n",
    "    { 'id': 18, 'name': 'Bearing' },\n",
    "    { 'id':  3, 'name': 'Glasses' },\n",
    "    { 'id':  1, 'name': 'Human' },\n",
    "    \n",
    "    { 'id':  4, 'name': 'Plane' },\n",
    "    { 'id':  7, 'name': 'Octopus' },\n",
    "    { 'id':  8, 'name': 'Table' },\n",
    "    { 'id':  9, 'name': 'Teddy' },\n",
    "    { 'id': 11, 'name': 'Plier' },\n",
    "    { 'id': 12, 'name': 'Fish' },\n",
    "    { 'id': 13, 'name': 'Bird' },\n",
    "    { 'id': 17, 'name': 'Mech' },\n",
    "    \n",
    "#    { 'id':  2, 'name': 'Cup' },\n",
    "#    { 'id':  6, 'name': 'Chair' },\n",
    "#    { 'id': 14, 'name': 'Spring' },\n",
    "#    { 'id': 19, 'name': 'Vase' },\n",
    "    \n",
    "]\n",
    "\n",
    "#shrec_categories = sorted(shrec_categories, key=lambda x : x['name'])\n",
    "\n",
    "def shrec_id_range(category_id):\n",
    "    id_min = 1 + (category_id - 1) * 20\n",
    "    id_max = 1 + category_id * 20\n",
    "    return range(id_min, id_max)"
   ]
  },
  {
   "cell_type": "code",
   "execution_count": 55,
   "metadata": {},
   "outputs": [
    {
     "data": {
      "text/plain": [
       "<Figure size 864x576 with 0 Axes>"
      ]
     },
     "metadata": {},
     "output_type": "display_data"
    }
   ],
   "source": [
    "output_dir = 'peseta:/local/born/layout-embedding-output'\n",
    "shrec_results_dir = output_dir + '/shrec07_results'\n",
    "\n",
    "plt.figure(figsize=(12,8))\n",
    "#plt.figure(figsize=(20,8))\n",
    "subplot_index = 0\n",
    "for category in shrec_categories:\n",
    "    subplot_index += 1\n",
    "    category_id = category['id']\n",
    "    category_name = category['name']\n",
    "    \n",
    "    items_list = []\n",
    "    for mesh_id in shrec_id_range(category_id):\n",
    "        stats_fn = shrec_results_dir + f'/stats_{mesh_id}.csv'\n",
    "        stats_bnb_fn = shrec_results_dir + f'/stats_{mesh_id}_bnb.csv'\n",
    "        if not os.path.exists(stats_fn):\n",
    "            continue\n",
    "        if not os.path.exists(stats_bnb_fn):\n",
    "            continue\n",
    "        \n",
    "        stats_data = pd.read_csv(stats_fn)\n",
    "        stats_bnb_data = pd.read_csv(stats_bnb_fn)\n",
    "        \n",
    "        item = {}\n",
    "        for ds in data_series:\n",
    "            field = ds['name']\n",
    "            found_entry = stats_data[(stats_data['algorithm'] == field)]\n",
    "            if len(found_entry) > 0:\n",
    "                item[field] = float(found_entry['score'])\n",
    "        \n",
    "        #item['mesh_id'] = mesh_id\n",
    "        item['bnb_lower_bound'] = float(stats_bnb_data['lower_bound'])\n",
    "        #item['bnb_lower_bound'] = 0.99 * item['bnb']\n",
    "        \n",
    "        items_list.append(item)\n",
    "    num_items = len(items_list)\n",
    "    if num_items == 0:\n",
    "        continue\n",
    "    items = pd.DataFrame(items_list)\n",
    "    items.sort_values(['bnb'], ignore_index=True, inplace=True)\n",
    "    \n",
    "    plt.subplot(4, 4, subplot_index)\n",
    "    plt.title(f'{category_name}')\n",
    "    for i, row in items.iterrows():\n",
    "        x = i #row['mesh_id']\n",
    "        vbar_min = min([row['kraevoy'], row['praun'], row['schreiner'], row['bnb_lower_bound'], row['bnb']])\n",
    "        vbar_max = max([row['kraevoy'], row['praun'], row['schreiner'], row['bnb_lower_bound'], row['bnb']])\n",
    "        plt.plot([x,x], [vbar_min, vbar_max], c='rwth:blue25', zorder=-1)\n",
    "        for ds in data_series:\n",
    "            if ds['name'] not in row:\n",
    "                continue\n",
    "            y = row[ds['name']]\n",
    "            marker = 'o'\n",
    "            s = 20\n",
    "            if ds['name'] == 'bnb_lower_bound':\n",
    "                marker = '_'\n",
    "                s = 60\n",
    "            plt.scatter(x, y, label=ds['label'], c=ds['color'], marker=marker, s=s)\n",
    "    frame1 = plt.gca()\n",
    "    frame1.axes.get_xaxis().set_visible(False)\n",
    "    #frame1.axes.get_xaxis().set_ticks(np.arange(items.mesh_id.min(), items.mesh_id.max() + 1, 1))\n",
    "plt.tight_layout()\n",
    "plt.savefig('/home/pschmidt/layout-embedding-paper/img/shrec07-quantitative/plot.pdf')"
   ]
  },
  {
   "cell_type": "code",
   "execution_count": 53,
   "metadata": {},
   "outputs": [
    {
     "ename": "NameError",
     "evalue": "name 'cases' is not defined",
     "output_type": "error",
     "traceback": [
      "\u001b[0;31m---------------------------------------------------------------------------\u001b[0m",
      "\u001b[0;31mNameError\u001b[0m                                 Traceback (most recent call last)",
      "\u001b[0;32m<ipython-input-53-9241d543f465>\u001b[0m in \u001b[0;36m<module>\u001b[0;34m\u001b[0m\n\u001b[1;32m      4\u001b[0m \u001b[0mplt\u001b[0m\u001b[0;34m.\u001b[0m\u001b[0mgca\u001b[0m\u001b[0;34m(\u001b[0m\u001b[0;34m)\u001b[0m\u001b[0;34m.\u001b[0m\u001b[0myaxis\u001b[0m\u001b[0;34m.\u001b[0m\u001b[0mset_major_formatter\u001b[0m\u001b[0;34m(\u001b[0m\u001b[0mPercentFormatter\u001b[0m\u001b[0;34m(\u001b[0m\u001b[0;36m1\u001b[0m\u001b[0;34m)\u001b[0m\u001b[0;34m)\u001b[0m\u001b[0;34m\u001b[0m\u001b[0;34m\u001b[0m\u001b[0m\n\u001b[1;32m      5\u001b[0m \u001b[0mplt\u001b[0m\u001b[0;34m.\u001b[0m\u001b[0mylim\u001b[0m\u001b[0;34m(\u001b[0m\u001b[0;36m0\u001b[0m\u001b[0;34m,\u001b[0m \u001b[0;36m1\u001b[0m\u001b[0;34m)\u001b[0m\u001b[0;34m\u001b[0m\u001b[0;34m\u001b[0m\u001b[0m\n\u001b[0;32m----> 6\u001b[0;31m \u001b[0;32mfor\u001b[0m \u001b[0mcase\u001b[0m \u001b[0;32min\u001b[0m \u001b[0mcases\u001b[0m\u001b[0;34m:\u001b[0m\u001b[0;34m\u001b[0m\u001b[0;34m\u001b[0m\u001b[0m\n\u001b[0m\u001b[1;32m      7\u001b[0m     \u001b[0malgo\u001b[0m \u001b[0;34m=\u001b[0m \u001b[0mcase\u001b[0m\u001b[0;34m[\u001b[0m\u001b[0;34m'algo'\u001b[0m\u001b[0;34m]\u001b[0m\u001b[0;34m\u001b[0m\u001b[0;34m\u001b[0m\u001b[0m\n\u001b[1;32m      8\u001b[0m     \u001b[0mascending_score\u001b[0m \u001b[0;34m=\u001b[0m \u001b[0mnp\u001b[0m\u001b[0;34m.\u001b[0m\u001b[0msort\u001b[0m\u001b[0;34m(\u001b[0m\u001b[0mrun_data\u001b[0m\u001b[0;34m.\u001b[0m\u001b[0mloc\u001b[0m\u001b[0;34m[\u001b[0m\u001b[0malgo\u001b[0m\u001b[0;34m]\u001b[0m\u001b[0;34m[\u001b[0m\u001b[0;34m'score'\u001b[0m\u001b[0;34m]\u001b[0m\u001b[0;34m)\u001b[0m\u001b[0;34m\u001b[0m\u001b[0;34m\u001b[0m\u001b[0m\n",
      "\u001b[0;31mNameError\u001b[0m: name 'cases' is not defined"
     ]
    },
    {
     "data": {
      "image/png": "[encoded data removed]",
      "text/plain": [
       "<Figure size 432x288 with 1 Axes>"
      ]
     },
     "metadata": {
      "needs_background": "light"
     },
     "output_type": "display_data"
    }
   ],
   "source": [
    "plt.figure()\n",
    "plt.title('All Categories')\n",
    "plt.xlabel('score')\n",
    "plt.gca().yaxis.set_major_formatter(PercentFormatter(1))\n",
    "plt.ylim(0, 1)\n",
    "for case in cases:\n",
    "    algo = case['algo']\n",
    "    ascending_score = np.sort(run_data.loc[algo]['score'])\n",
    "    percentiles = np.linspace(0, 1, len(ascending_score))\n",
    "    plt.plot(ascending_score, percentiles, label=case['label'], c=case['color'])\n",
    "plt.legend(loc='lower right')"
   ]
  },
  {
   "cell_type": "code",
   "execution_count": null,
   "metadata": {},
   "outputs": [],
   "source": [
    "run_data.set_index(['id'])"
   ]
  },
  {
   "cell_type": "code",
   "execution_count": null,
   "metadata": {},
   "outputs": [],
   "source": [
    "plt.figure(figsize=(12,18))\n",
    "subplot_index = 1\n",
    "for c in categories:\n",
    "    id_min = 1 + (c['id'] - 1) * 20\n",
    "    id_max = 1 + c['id'] * 20\n",
    "    c_data = run_data[run_data.index.get_level_values('id').isin(range(id_min, id_max))]\n",
    "    if len(c_data) == 0:\n",
    "        continue\n",
    "    plt.subplot(6, 3, subplot_index)\n",
    "    name = c['name']\n",
    "    plt.title(f'{name} ({id_min}–{id_max})')\n",
    "    plt.xlabel('score')\n",
    "    \n",
    "    for c_id in c_data['id']:\n",
    "        print(f'id: {id}')\n",
    "    \n",
    "    subplot_index += 1\n",
    "plt.tight_layout()"
   ]
  },
  {
   "cell_type": "code",
   "execution_count": null,
   "metadata": {},
   "outputs": [],
   "source": [
    "plt.figure(figsize=(12,18))\n",
    "subplot_index = 1\n",
    "for c in categories:\n",
    "    id_min = 1 + (c['id'] - 1) * 20\n",
    "    id_max = 1 + c['id'] * 20\n",
    "    c_data = run_data[run_data.index.get_level_values('id').isin(range(id_min, id_max))]\n",
    "    if len(c_data) == 0:\n",
    "        continue\n",
    "    plt.subplot(6, 3, subplot_index)\n",
    "    name = c['name']\n",
    "    plt.title(f'{name} ({id_min}–{id_max})')\n",
    "    plt.xlabel('score')\n",
    "    plt.gca().yaxis.set_major_formatter(PercentFormatter(1))\n",
    "    plt.ylim(0, 1)\n",
    "    for case in cases:\n",
    "        algo = case['algo']\n",
    "        ascending_score = np.sort(c_data.loc[algo]['score'])\n",
    "        percentiles = np.linspace(0, 1, len(ascending_score))\n",
    "        plt.plot(ascending_score, percentiles, label=case['label'], c=case['color'])\n",
    "    plt.legend(loc='lower right')\n",
    "    subplot_index += 1\n",
    "plt.tight_layout()"
   ]
  },
  {
   "cell_type": "code",
   "execution_count": 5,
   "metadata": {},
   "outputs": [
    {
     "ename": "NameError",
     "evalue": "name 'run_data' is not defined",
     "output_type": "error",
     "traceback": [
      "\u001b[0;31m---------------------------------------------------------------------------\u001b[0m",
      "\u001b[0;31mNameError\u001b[0m                                 Traceback (most recent call last)",
      "\u001b[0;32m<ipython-input-5-6c7342db7f3d>\u001b[0m in \u001b[0;36m<module>\u001b[0;34m\u001b[0m\n\u001b[1;32m     19\u001b[0m \u001b[0;32mfor\u001b[0m \u001b[0mcase\u001b[0m \u001b[0;32min\u001b[0m \u001b[0mcases\u001b[0m\u001b[0;34m:\u001b[0m\u001b[0;34m\u001b[0m\u001b[0;34m\u001b[0m\u001b[0m\n\u001b[1;32m     20\u001b[0m     \u001b[0malgo\u001b[0m \u001b[0;34m=\u001b[0m \u001b[0mcase\u001b[0m\u001b[0;34m[\u001b[0m\u001b[0;34m'algo'\u001b[0m\u001b[0;34m]\u001b[0m\u001b[0;34m\u001b[0m\u001b[0;34m\u001b[0m\u001b[0m\n\u001b[0;32m---> 21\u001b[0;31m     \u001b[0mruntime_series\u001b[0m \u001b[0;34m=\u001b[0m \u001b[0mrun_data\u001b[0m\u001b[0;34m.\u001b[0m\u001b[0mloc\u001b[0m\u001b[0;34m[\u001b[0m\u001b[0malgo\u001b[0m\u001b[0;34m]\u001b[0m\u001b[0;34m[\u001b[0m\u001b[0;34m'runtime'\u001b[0m\u001b[0;34m]\u001b[0m\u001b[0;34m.\u001b[0m\u001b[0mdropna\u001b[0m\u001b[0;34m(\u001b[0m\u001b[0;34m)\u001b[0m\u001b[0;34m\u001b[0m\u001b[0;34m\u001b[0m\u001b[0m\n\u001b[0m\u001b[1;32m     22\u001b[0m     \u001b[0mascending_runtime\u001b[0m \u001b[0;34m=\u001b[0m \u001b[0mnp\u001b[0m\u001b[0;34m.\u001b[0m\u001b[0msort\u001b[0m\u001b[0;34m(\u001b[0m\u001b[0mruntime_series\u001b[0m\u001b[0;34m)\u001b[0m\u001b[0;34m\u001b[0m\u001b[0;34m\u001b[0m\u001b[0m\n\u001b[1;32m     23\u001b[0m     \u001b[0mpercentiles\u001b[0m \u001b[0;34m=\u001b[0m \u001b[0mnp\u001b[0m\u001b[0;34m.\u001b[0m\u001b[0mlinspace\u001b[0m\u001b[0;34m(\u001b[0m\u001b[0;36m0\u001b[0m\u001b[0;34m,\u001b[0m \u001b[0;36m1\u001b[0m\u001b[0;34m,\u001b[0m \u001b[0mlen\u001b[0m\u001b[0;34m(\u001b[0m\u001b[0mascending_runtime\u001b[0m\u001b[0;34m)\u001b[0m\u001b[0;34m)\u001b[0m\u001b[0;34m\u001b[0m\u001b[0;34m\u001b[0m\u001b[0m\n",
      "\u001b[0;31mNameError\u001b[0m: name 'run_data' is not defined"
     ]
    }
   ],
   "source": [
    "cases = [\n",
    "    {\n",
    "        'algo': 'greedy',\n",
    "        'label': 'Greedy',\n",
    "        'color': 'rwth:red',\n",
    "    },\n",
    "    {\n",
    "        'algo': 'greedy_brute_force',\n",
    "        'label': 'Greedy (Brute Force)',\n",
    "        'color': 'rwth:orange',\n",
    "    },\n",
    "    {\n",
    "        'algo': 'bnb',\n",
    "        'label': 'Branch-and-Bound',\n",
    "        'color': 'rwth:blue',\n",
    "    },\n",
    "]\n",
    "\n",
    "for case in cases:\n",
    "    algo = case['algo']\n",
    "    runtime_series = run_data.loc[algo]['runtime'].dropna()\n",
    "    ascending_runtime = np.sort(runtime_series)\n",
    "    percentiles = np.linspace(0, 1, len(ascending_runtime))\n",
    "\n",
    "    plt.figure()\n",
    "    plt.title(case['label'])\n",
    "    plt.xlabel('runtime (s)')\n",
    "    plt.gca().yaxis.set_major_formatter(PercentFormatter(1))\n",
    "    plt.ylim(0, 1)\n",
    "    if algo == 'bnb':\n",
    "        plt.axvline(600, c='lightgray', linestyle='--', zorder=-1)\n",
    "    plt.plot(ascending_runtime, percentiles, c=case['color'])\n",
    "    \n",
    "    print('avg {}: {} s'.format(algo, runtime_series.mean()))"
   ]
  },
  {
   "cell_type": "code",
   "execution_count": null,
   "metadata": {},
   "outputs": [],
   "source": []
  }
 ],
 "metadata": {
  "kernelspec": {
   "display_name": "Python 3",
   "language": "python",
   "name": "python3"
  },
  "language_info": {
   "codemirror_mode": {
    "name": "ipython",
    "version": 3
   },
   "file_extension": ".py",
   "mimetype": "text/x-python",
   "name": "python",
   "nbconvert_exporter": "python",
   "pygments_lexer": "ipython3",
   "version": "3.7.3rc1"
  }
 },
 "nbformat": 4,
 "nbformat_minor": 2
}
