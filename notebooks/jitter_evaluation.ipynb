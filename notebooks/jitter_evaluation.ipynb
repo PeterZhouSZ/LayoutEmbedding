{
 "cells": [
  {
   "cell_type": "code",
   "execution_count": null,
   "metadata": {},
   "outputs": [],
   "source": [
    "%matplotlib inline\n",
    "import matplotlib.pyplot as plt\n",
    "from matplotlib.ticker import PercentFormatter\n",
    "import numpy as np\n",
    "import pandas as pd\n",
    "import rwthcolors\n",
    "import eurographics_style\n",
    "import glob"
   ]
  },
  {
   "cell_type": "code",
   "execution_count": null,
   "metadata": {},
   "outputs": [],
   "source": [
    "output_dir = '/local/born/layout-embedding-output'\n",
    "jitter_evaluation_output_dir = output_dir + '/jitter_evaluation'\n",
    "jitter_evaluation_stats_path = jitter_evaluation_output_dir + '/stats_backup.csv'\n",
    "\n",
    "run_data = pd.read_csv(jitter_evaluation_stats_path)\n",
    "\n",
    "# Sanitization\n",
    "run_data.loc[run_data['jitter_iters'] == 0, 'avg_d'] = 0\n",
    "run_data.loc[run_data['jitter_iters'] == 0, 'max_d'] = 0\n",
    "\n",
    "run_data"
   ]
  },
  {
   "cell_type": "code",
   "execution_count": null,
   "metadata": {},
   "outputs": [],
   "source": [
    "data_series = [\n",
    "    {\n",
    "        'name': 'greedy',\n",
    "        'label': 'Greedy',\n",
    "        'color': 'rwth:yellow',\n",
    "    },\n",
    "    {\n",
    "        'name': 'kraevoy',\n",
    "        'label': 'Kraevoy',\n",
    "        'color': 'rwth:yellow',\n",
    "    },\n",
    "    {\n",
    "        'name': 'praun',\n",
    "        'label': 'Praun',\n",
    "        'color': 'rwth:orange',\n",
    "    },\n",
    "    {\n",
    "        'name': 'schreiner',\n",
    "        'label': 'Schreiner',\n",
    "        'color': 'rwth:red',\n",
    "    },\n",
    "    {\n",
    "        'name': 'bnb_lower_bound',\n",
    "        'label': 'B&B (Lower Bound)',\n",
    "        'color': 'rwth:blue50',\n",
    "    },\n",
    "    {\n",
    "        'name': 'bnb',\n",
    "        'label': 'B&B',\n",
    "        'color': 'rwth:blue',\n",
    "    },\n",
    "]"
   ]
  },
  {
   "cell_type": "code",
   "execution_count": null,
   "metadata": {},
   "outputs": [],
   "source": [
    "plt.figure()\n",
    "plt.xlabel('Average Pertubation Distance')\n",
    "plt.ylabel('Embedding Cost')\n",
    "for ds in data_series:\n",
    "    algo = ds['name']\n",
    "    current_run_data = run_data[run_data['algo'] == algo]\n",
    "    if len(current_run_data) == 0:\n",
    "        continue\n",
    "\n",
    "    current_run_data\n",
    "    current_run_data.sort_values(['avg_d'], ignore_index=True, inplace=True)\n",
    "        \n",
    "    cost_x = np.array(current_run_data['avg_d'])\n",
    "    cost_y = np.array(current_run_data['cost'])\n",
    "    \n",
    "    plt.plot(cost_x, cost_y, label=ds['label'], c=ds['color'], linewidth=2.0)\n",
    "plt.legend()\n",
    "plt.savefig('/home/born/projects/layouts/layout-embedding-paper/img/jitter-evaluation/plot.pdf')"
   ]
  }
 ],
 "metadata": {
  "kernelspec": {
   "display_name": "Python 3",
   "language": "python",
   "name": "python3"
  },
  "language_info": {
   "codemirror_mode": {
    "name": "ipython",
    "version": 3
   },
   "file_extension": ".py",
   "mimetype": "text/x-python",
   "name": "python",
   "nbconvert_exporter": "python",
   "pygments_lexer": "ipython3",
   "version": "3.7.3"
  }
 },
 "nbformat": 4,
 "nbformat_minor": 2
}
